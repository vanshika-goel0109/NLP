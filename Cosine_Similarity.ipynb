{
  "nbformat": 4,
  "nbformat_minor": 0,
  "metadata": {
    "colab": {
      "provenance": []
    },
    "kernelspec": {
      "name": "python3",
      "display_name": "Python 3"
    },
    "language_info": {
      "name": "python"
    }
  },
  "cells": [
    {
      "cell_type": "code",
      "execution_count": null,
      "metadata": {
        "id": "z9-SwTCA6AEt"
      },
      "outputs": [],
      "source": [
        "import pandas as pd\n",
        "from sklearn.feature_extraction.text import TfidfVectorizer\n",
        "from sklearn.metrics.pairwise import cosine_similarity\n"
      ]
    },
    {
      "cell_type": "code",
      "source": [
        "df = pd.read_csv(\"times.csv\")"
      ],
      "metadata": {
        "id": "XwHYbJuW6Jn_"
      },
      "execution_count": null,
      "outputs": []
    },
    {
      "cell_type": "code",
      "source": [
        "df.keys()"
      ],
      "metadata": {
        "colab": {
          "base_uri": "https://localhost:8080/"
        },
        "id": "G7Ox9ifqV1BM",
        "outputId": "43ac8d12-84a2-4290-c4b5-ada19be24808"
      },
      "execution_count": null,
      "outputs": [
        {
          "output_type": "execute_result",
          "data": {
            "text/plain": [
              "Index(['Title', 'Summary', 'Date', 'Link'], dtype='object')"
            ]
          },
          "metadata": {},
          "execution_count": 14
        }
      ]
    },
    {
      "cell_type": "code",
      "source": [
        "vectorizer = TfidfVectorizer()"
      ],
      "metadata": {
        "id": "I2mNBQdIDZpg"
      },
      "execution_count": null,
      "outputs": []
    },
    {
      "cell_type": "code",
      "source": [
        "vectors = vectorizer.fit_transform(df[\"Summary\"])"
      ],
      "metadata": {
        "id": "lV6W4bM16RkS"
      },
      "execution_count": null,
      "outputs": []
    },
    {
      "cell_type": "code",
      "source": [
        "cosine_sim = cosine_similarity(vectors)"
      ],
      "metadata": {
        "id": "a8c5AwwR6ok3"
      },
      "execution_count": null,
      "outputs": []
    },
    {
      "cell_type": "code",
      "source": [
        "print(cosine_sim)"
      ],
      "metadata": {
        "colab": {
          "base_uri": "https://localhost:8080/"
        },
        "id": "DT9uXLyxV9bu",
        "outputId": "fffc8e6a-0afb-49ec-ff51-c87b2aa18a38"
      },
      "execution_count": null,
      "outputs": [
        {
          "output_type": "stream",
          "name": "stdout",
          "text": [
            "[[1.         0.13583645 0.04361564 0.04855641 0.09820871 0.09106695\n",
            "  0.10046991 0.04469207 0.11593751 0.04270338]\n",
            " [0.13583645 1.         0.02037065 0.05613947 0.1450185  0.08309767\n",
            "  0.09804124 0.03142832 0.11550413 0.10425655]\n",
            " [0.04361564 0.02037065 1.         0.         0.03200917 0.04181669\n",
            "  0.06138426 0.0384816  0.00959786 0.02844563]\n",
            " [0.04855641 0.05613947 0.         1.         0.05880938 0.04317479\n",
            "  0.05757133 0.         0.08549106 0.10242385]\n",
            " [0.09820871 0.1450185  0.03200917 0.05880938 1.         0.08245609\n",
            "  0.10082817 0.01483979 0.1064042  0.09828867]\n",
            " [0.09106695 0.08309767 0.04181669 0.04317479 0.08245609 1.\n",
            "  0.06460172 0.00871568 0.09635604 0.05772675]\n",
            " [0.10046991 0.09804124 0.06138426 0.05757133 0.10082817 0.06460172\n",
            "  1.         0.         0.11379016 0.08797212]\n",
            " [0.04469207 0.03142832 0.0384816  0.         0.01483979 0.00871568\n",
            "  0.         1.         0.011053   0.03275828]\n",
            " [0.11593751 0.11550413 0.00959786 0.08549106 0.1064042  0.09635604\n",
            "  0.11379016 0.011053   1.         0.11302153]\n",
            " [0.04270338 0.10425655 0.02844563 0.10242385 0.09828867 0.05772675\n",
            "  0.08797212 0.03275828 0.11302153 1.        ]]\n"
          ]
        }
      ]
    }
  ]
}