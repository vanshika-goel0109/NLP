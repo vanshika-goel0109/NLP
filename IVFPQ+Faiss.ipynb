{
  "nbformat": 4,
  "nbformat_minor": 0,
  "metadata": {
    "colab": {
      "provenance": []
    },
    "kernelspec": {
      "name": "python3",
      "display_name": "Python 3"
    },
    "language_info": {
      "name": "python"
    }
  },
  "cells": [
    {
      "cell_type": "code",
      "source": [
        "!pip install faiss-cpu\n"
      ],
      "metadata": {
        "colab": {
          "base_uri": "https://localhost:8080/"
        },
        "id": "zU7LBjiJ9iBB",
        "outputId": "3d4877ac-5a16-4777-c69e-2d024e3cd40f"
      },
      "execution_count": 2,
      "outputs": [
        {
          "output_type": "stream",
          "name": "stdout",
          "text": [
            "Looking in indexes: https://pypi.org/simple, https://us-python.pkg.dev/colab-wheels/public/simple/\n",
            "Requirement already satisfied: faiss-cpu in /usr/local/lib/python3.8/dist-packages (1.7.3)\n"
          ]
        }
      ]
    },
    {
      "cell_type": "code",
      "source": [
        "import faiss\n",
        "import numpy as np\n",
        "     \n",
        "\n",
        "import pandas as pd\n",
        "from sklearn.preprocessing import LabelEncoder\n",
        "# Read the CSV file into a dataframe\n",
        "df = pd.read_csv('medium_Data.csv')"
      ],
      "metadata": {
        "id": "VqcleVOj9yWF"
      },
      "execution_count": 3,
      "outputs": []
    },
    {
      "cell_type": "code",
      "source": [
        "encoders = {}\n",
        "for col in df.columns:\n",
        "    if df[col].dtype == object:\n",
        "        encoders[col] = LabelEncoder()\n",
        "        df[col] = encoders[col].fit_transform(df[col])"
      ],
      "metadata": {
        "id": "poOt4aKG9-xo"
      },
      "execution_count": 4,
      "outputs": []
    },
    {
      "cell_type": "code",
      "source": [
        "\n",
        "data = df.values"
      ],
      "metadata": {
        "id": "DzXAnXBJ-AYh"
      },
      "execution_count": 5,
      "outputs": []
    },
    {
      "cell_type": "code",
      "source": [
        "data\n",
        "     "
      ],
      "metadata": {
        "colab": {
          "base_uri": "https://localhost:8080/"
        },
        "id": "1XS4Cl_2-B1g",
        "outputId": "9b2d0100-f405-43bf-b0c7-8d3d6be3124c"
      },
      "execution_count": 6,
      "outputs": [
        {
          "output_type": "execute_result",
          "data": {
            "text/plain": [
              "array([[154, 180,  60, 239, 180],\n",
              "       [180, 204,  74,  29, 255],\n",
              "       [219,  85, 104, 245, 238],\n",
              "       ...,\n",
              "       [190, 143, 105, 199, 184],\n",
              "       [ 69, 163,  26,  95, 137],\n",
              "       [239,  23,  24,  33,   4]])"
            ]
          },
          "metadata": {},
          "execution_count": 6
        }
      ]
    },
    {
      "cell_type": "code",
      "source": [
        "data.shape[1]"
      ],
      "metadata": {
        "colab": {
          "base_uri": "https://localhost:8080/"
        },
        "id": "GSr2-pWY-D_u",
        "outputId": "880becb2-459e-45c5-c3e7-82ee1f2cfb28"
      },
      "execution_count": 7,
      "outputs": [
        {
          "output_type": "execute_result",
          "data": {
            "text/plain": [
              "5"
            ]
          },
          "metadata": {},
          "execution_count": 7
        }
      ]
    },
    {
      "cell_type": "code",
      "source": [
        "data.shape[0]"
      ],
      "metadata": {
        "colab": {
          "base_uri": "https://localhost:8080/"
        },
        "id": "zQu11l_B-Fkk",
        "outputId": "0f13fc68-973b-486e-801f-1fbf09b80151"
      },
      "execution_count": 8,
      "outputs": [
        {
          "output_type": "execute_result",
          "data": {
            "text/plain": [
              "309"
            ]
          },
          "metadata": {},
          "execution_count": 8
        }
      ]
    },
    {
      "cell_type": "code",
      "source": [
        "d = data.shape[1]        \n",
        "M = 5         \n",
        "nlist = data.shape[0]  \n",
        "nsegment = 5  \n",
        "nbit = 8       \n",
        "k=10\n",
        "coarse_quantizer = faiss.IndexHNSWFlat(d, M)\n",
        "coarse_quantizer"
      ],
      "metadata": {
        "colab": {
          "base_uri": "https://localhost:8080/"
        },
        "id": "94YSrrjl-HKC",
        "outputId": "dc0c9dc2-25a9-4dd1-b2d1-badce8ece159"
      },
      "execution_count": 9,
      "outputs": [
        {
          "output_type": "execute_result",
          "data": {
            "text/plain": [
              "<faiss.swigfaiss_avx2.IndexHNSWFlat; proxy of <Swig Object of type 'faiss::IndexHNSWFlat *' at 0x7f7ef93f3bd0> >"
            ]
          },
          "metadata": {},
          "execution_count": 9
        }
      ]
    },
    {
      "cell_type": "code",
      "source": [
        "index = faiss.IndexIVFPQ(coarse_quantizer, d, nlist, nsegment, nbit) "
      ],
      "metadata": {
        "id": "SEGdZtzP-JpA"
      },
      "execution_count": 10,
      "outputs": []
    },
    {
      "cell_type": "code",
      "source": [
        "index.train(data)"
      ],
      "metadata": {
        "id": "lMd2-CzC-Lfo"
      },
      "execution_count": 11,
      "outputs": []
    },
    {
      "cell_type": "code",
      "source": [
        "index.add(data)"
      ],
      "metadata": {
        "id": "Z1iNhruD-NIq"
      },
      "execution_count": 12,
      "outputs": []
    },
    {
      "cell_type": "code",
      "source": [
        "index.nprobe = 5     \n",
        "D, I = index.search(data, k)"
      ],
      "metadata": {
        "id": "WelCOLr2-O7k"
      },
      "execution_count": 13,
      "outputs": []
    },
    {
      "cell_type": "code",
      "source": [
        "D"
      ],
      "metadata": {
        "colab": {
          "base_uri": "https://localhost:8080/"
        },
        "id": "imIcSauS-QyA",
        "outputId": "e6b61f1c-c6e2-444d-b18a-ea5d77e3dc86"
      },
      "execution_count": 14,
      "outputs": [
        {
          "output_type": "execute_result",
          "data": {
            "text/plain": [
              "array([[0.0000000e+00, 4.1040000e+03, 4.5170000e+03, ..., 3.4028235e+38,\n",
              "        3.4028235e+38, 3.4028235e+38],\n",
              "       [0.0000000e+00, 1.0880000e+03, 2.6730000e+03, ..., 3.4028235e+38,\n",
              "        3.4028235e+38, 3.4028235e+38],\n",
              "       [0.0000000e+00, 1.4790000e+03, 1.7490000e+03, ..., 3.4028235e+38,\n",
              "        3.4028235e+38, 3.4028235e+38],\n",
              "       ...,\n",
              "       [0.0000000e+00, 1.9560000e+03, 3.3230000e+03, ..., 3.4028235e+38,\n",
              "        3.4028235e+38, 3.4028235e+38],\n",
              "       [0.0000000e+00, 5.1980000e+03, 5.5650000e+03, ..., 3.4028235e+38,\n",
              "        3.4028235e+38, 3.4028235e+38],\n",
              "       [0.0000000e+00, 7.5800000e+02, 5.5150000e+03, ..., 3.4028235e+38,\n",
              "        3.4028235e+38, 3.4028235e+38]], dtype=float32)"
            ]
          },
          "metadata": {},
          "execution_count": 14
        }
      ]
    }
  ]
}